{
 "cells": [
  {
   "cell_type": "markdown",
   "metadata": {
    "id": "n7u8igH2esOY"
   },
   "source": [
    "# Vamos...\n",
    "\n",
    "Vamos a analizar el perfil de Rosalía (@rosalia) en Twitter. Si es necesario puedes consultar los siguientes enlaces:\n",
    "\n",
    "* La API de twitter \n",
    "* La Stream API de twitter\n",
    "* La API de tweepy\n",
    "\n"
   ]
  },
  {
   "cell_type": "code",
   "execution_count": null,
   "metadata": {
    "id": "AZHuUi5oe7IE"
   },
   "outputs": [],
   "source": [
    "import json\n",
    "import pymongo\n",
    "import tweepy\n",
    "import urllib\n",
    "import time\n",
    "import pandas as pd \n",
    "import numpy as np\n",
    "import matplotlib.pyplot as plt\n",
    "import datetime\n"
   ]
  },
  {
   "cell_type": "code",
   "execution_count": null,
   "metadata": {
    "id": "FmxkQuU7fMmo"
   },
   "outputs": [],
   "source": [
    "# Autentícate en twitter. \n",
    "# credenciales (consumer_key, consumer_secret, access_key y access_secret)\n",
    "# Coloca tus credenciales si deseas correr el código.\n",
    "\n",
    "#keys\n",
    "consumer_key = \"XXXXXXXXXXXXXXXXXXXXXXXXXXXXXXXXXXXXXXXXXXXXXXXXXX\"\n",
    "consumer_secret = \"XXXXXXXXXXXXXXXXXXXXXXXXXXXXXXXXXXXXXXXXXXXXXXXXXX\"\n",
    "\n",
    "access_key = \"XXXXXXXXXXXXXXXXXXXXXXXXXXXXXXXXXXXXXXXXXXXXXXXXXX\"\n",
    "access_secret = \"XXXXXXXXXXXXXXXXXXXXXXXXXXXXXXXXXXXXXXXXXXXXXXXXXX\"\n",
    "\n",
    "#autenticación \n",
    "auth = tweepy.OAuthHandler(consumer_key, consumer_secret)\n",
    "auth.set_access_token(access_key, access_secret)\n",
    "api = tweepy.API(auth,  wait_on_rate_limit=True)"
   ]
  },
  {
   "cell_type": "code",
   "execution_count": null,
   "metadata": {
    "colab": {
     "base_uri": "https://localhost:8080/"
    },
    "id": "cV-shxmUftfI",
    "outputId": "4a0bd022-0490-4566-cffb-08e848d611ac"
   },
   "outputs": [
    {
     "name": "stdout",
     "output_type": "stream",
     "text": [
      " El id user de Rosalía es: 1728956976\n"
     ]
    }
   ],
   "source": [
    "# ¿Cuál es el id de @rosalia en twitter? \n",
    "\n",
    "screen_name = \"rosalia\"\n",
    "user = api.get_user(id=screen_name)\n",
    "print(\" El id user de Rosalía es: \"  + str(user.id))"
   ]
  },
  {
   "cell_type": "code",
   "execution_count": null,
   "metadata": {
    "id": "uWl2l6rZgl1j"
   },
   "outputs": [],
   "source": [
    "# Lista los nombres de los usuarios a los que @rosalia está siguiendo.\n",
    "friends = api.friends_ids(screen_name)\n",
    "key = []\n",
    "axs = []\n",
    "\n",
    "for friend in friends: \n",
    "  key.append(api.get_user(friend).screen_name)\n",
    "\n",
    "for user in tweepy.Cursor(api.friends, screen_name).items():\n",
    "  axs.append(user.followers_count)\n",
    "\n",
    "np_array_keys = np.array(key)\n",
    "np_array_axs = np.array(axs)\n",
    "\n",
    "# ¿Cuál de ellos tiene más seguidores?\n",
    "df = pd.DataFrame(np_array_axs, np_array_keys, columns=['Seguidores'])\n",
    "df.sort_values(by=('Seguidores'), ascending = False)\n",
    "print('La persona a cual rosalia sigue y tiene más seguidores es: Elon Musk con 7,761,571,3 seguidores')"
   ]
  },
  {
   "cell_type": "code",
   "execution_count": null,
   "metadata": {
    "id": "gxWi9PPVjHYs"
   },
   "outputs": [],
   "source": [
    "# Utilizamos la api.user_timeline() para obtener el json completo con los cinco últimos tweets de Rosalia. Muestra por pantalla el día, la hora de creación y el texto.\n",
    "\n",
    "\n",
    "#Cinco últimos tweets completos de rosalía sin incluir rts (._json)\n",
    "tweets = api.user_timeline(screen_name = screen_name, count=8, include_rts = False, tweet_mode = 'extended')\n",
    "\n",
    "for status in tweets:\n",
    "  print(status._json, end = \"\\n\\n\")\n",
    "\n",
    "# día, la hora de creación y el texto.\n",
    "for info in tweets[:5]:\n",
    "  print(info.created_at)\n",
    "  print(info.full_text)\n",
    "  print(\"\\n\")"
   ]
  }
 ],
 "metadata": {
  "colab": {
   "name": "M3_AI2_CamachoAbadiePaul.ipynb",
   "provenance": []
  },
  "kernelspec": {
   "display_name": "Python 3 (ipykernel)",
   "language": "python",
   "name": "python3"
  },
  "language_info": {
   "codemirror_mode": {
    "name": "ipython",
    "version": 3
   },
   "file_extension": ".py",
   "mimetype": "text/x-python",
   "name": "python",
   "nbconvert_exporter": "python",
   "pygments_lexer": "ipython3",
   "version": "3.9.7"
  }
 },
 "nbformat": 4,
 "nbformat_minor": 4
}
