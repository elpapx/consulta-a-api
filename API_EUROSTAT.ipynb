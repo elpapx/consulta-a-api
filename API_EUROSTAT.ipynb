{
 "cells": [
  {
   "cell_type": "markdown",
   "metadata": {
    "id": "Lm-XkWvfM2hb",
    "tags": []
   },
   "source": [
    "# Practica uso del API de euroS"
   ]
  },
  {
   "cell_type": "code",
   "execution_count": 1,
   "metadata": {
    "id": "nWMOBwingNA6"
   },
   "outputs": [
    {
     "name": "stdout",
     "output_type": "stream",
     "text": [
      "\u001b[33mWARNING: Ignoring invalid distribution -andas (/home/jorge/anaconda3/lib/python3.9/site-packages)\u001b[0m\u001b[33m\n",
      "\u001b[0m\u001b[33mWARNING: Ignoring invalid distribution -andas (/home/jorge/anaconda3/lib/python3.9/site-packages)\u001b[0m\u001b[33m\n",
      "\u001b[0mCollecting eurostat\n",
      "  Downloading eurostat-0.2.3-py3-none-any.whl (11 kB)\n",
      "Requirement already satisfied: pandas in /home/jorge/anaconda3/lib/python3.9/site-packages (from eurostat) (1.4.1)\n",
      "Collecting pandasdmx<=0.9\n",
      "  Using cached pandaSDMX-0.9-py2.py3-none-any.whl (45 kB)\n",
      "Requirement already satisfied: requests in /home/jorge/anaconda3/lib/python3.9/site-packages (from eurostat) (2.27.1)\n",
      "Requirement already satisfied: lxml in /home/jorge/anaconda3/lib/python3.9/site-packages (from pandasdmx<=0.9->eurostat) (4.8.0)\n",
      "Requirement already satisfied: setuptools in /home/jorge/anaconda3/lib/python3.9/site-packages (from pandasdmx<=0.9->eurostat) (58.0.4)\n",
      "Collecting jsonpath-rw\n",
      "  Using cached jsonpath_rw-1.4.0-py3-none-any.whl\n",
      "Requirement already satisfied: python-dateutil>=2.8.1 in /home/jorge/anaconda3/lib/python3.9/site-packages (from pandas->eurostat) (2.8.2)\n",
      "Requirement already satisfied: pytz>=2020.1 in /home/jorge/anaconda3/lib/python3.9/site-packages (from pandas->eurostat) (2022.1)\n",
      "Requirement already satisfied: numpy>=1.18.5 in /home/jorge/anaconda3/lib/python3.9/site-packages (from pandas->eurostat) (1.22.3)\n",
      "Requirement already satisfied: urllib3<1.27,>=1.21.1 in /home/jorge/anaconda3/lib/python3.9/site-packages (from requests->eurostat) (1.26.8)\n",
      "Requirement already satisfied: idna<4,>=2.5 in /home/jorge/anaconda3/lib/python3.9/site-packages (from requests->eurostat) (3.3)\n",
      "Requirement already satisfied: certifi>=2017.4.17 in /home/jorge/anaconda3/lib/python3.9/site-packages (from requests->eurostat) (2022.6.15)\n",
      "Requirement already satisfied: charset-normalizer~=2.0.0 in /home/jorge/anaconda3/lib/python3.9/site-packages (from requests->eurostat) (2.0.4)\n",
      "Requirement already satisfied: six>=1.5 in /home/jorge/anaconda3/lib/python3.9/site-packages (from python-dateutil>=2.8.1->pandas->eurostat) (1.16.0)\n",
      "Requirement already satisfied: ply in /home/jorge/anaconda3/lib/python3.9/site-packages (from jsonpath-rw->pandasdmx<=0.9->eurostat) (3.11)\n",
      "Requirement already satisfied: decorator in /home/jorge/anaconda3/lib/python3.9/site-packages (from jsonpath-rw->pandasdmx<=0.9->eurostat) (5.1.1)\n",
      "\u001b[33mWARNING: Ignoring invalid distribution -andas (/home/jorge/anaconda3/lib/python3.9/site-packages)\u001b[0m\u001b[33m\n",
      "\u001b[0mInstalling collected packages: jsonpath-rw, pandasdmx, eurostat\n",
      "\u001b[33mWARNING: Ignoring invalid distribution -andas (/home/jorge/anaconda3/lib/python3.9/site-packages)\u001b[0m\u001b[33m\n",
      "\u001b[0m\u001b[33mWARNING: Ignoring invalid distribution -andas (/home/jorge/anaconda3/lib/python3.9/site-packages)\u001b[0m\u001b[33m\n",
      "\u001b[0m\u001b[33mWARNING: Ignoring invalid distribution -andas (/home/jorge/anaconda3/lib/python3.9/site-packages)\u001b[0m\u001b[33m\n",
      "\u001b[0mSuccessfully installed eurostat-0.2.3 jsonpath-rw-1.4.0 pandasdmx-0.9\n",
      "\u001b[33mWARNING: Ignoring invalid distribution -andas (/home/jorge/anaconda3/lib/python3.9/site-packages)\u001b[0m\u001b[33m\n",
      "\u001b[0m\u001b[33mWARNING: Ignoring invalid distribution -andas (/home/jorge/anaconda3/lib/python3.9/site-packages)\u001b[0m\u001b[33m\n",
      "\u001b[0m\u001b[33mWARNING: Ignoring invalid distribution -andas (/home/jorge/anaconda3/lib/python3.9/site-packages)\u001b[0m\u001b[33m\n",
      "\u001b[0m\n",
      "\u001b[1m[\u001b[0m\u001b[34;49mnotice\u001b[0m\u001b[1;39;49m]\u001b[0m\u001b[39;49m A new release of pip available: \u001b[0m\u001b[31;49m22.1.2\u001b[0m\u001b[39;49m -> \u001b[0m\u001b[32;49m22.2.2\u001b[0m\n",
      "\u001b[1m[\u001b[0m\u001b[34;49mnotice\u001b[0m\u001b[1;39;49m]\u001b[0m\u001b[39;49m To update, run: \u001b[0m\u001b[32;49mpip install --upgrade pip\u001b[0m\n"
     ]
    }
   ],
   "source": [
    "#PIP\n",
    "!pip install eurostat\n",
    "\n",
    "# Request API\n",
    "from urllib.request import urlretrieve\n",
    "from urllib.request import urlopen\n",
    "from eurostat.eurostat import get_sdmx_dic\n",
    "\n",
    "# Libraries análisis data \n",
    "import pandas as pd # data panel\n",
    "import numpy as np # linear algebra\n",
    "import eurostat # api eurostat\n",
    "import json # documentos no estructuurados\n",
    "import matplotlib.pyplot as plt # plot graficos "
   ]
  },
  {
   "cell_type": "code",
   "execution_count": 7,
   "metadata": {
    "id": "wOizTzlnNOwK"
   },
   "outputs": [
    {
     "name": "stdout",
     "output_type": "stream",
     "text": [
      "{'unit': {'label': 'unit', 'category': {'index': {'RTG': 0}, 'label': {'RTG': 'Rating (0-10)'}}}, 'isced11': {'label': 'isced11', 'category': {'index': {'ED5-8': 0}, 'label': {'ED5-8': 'Tertiary education (levels 5-8)'}}}, 'indic_wb': {'label': 'indic_wb', 'category': {'index': {'JOBSAT': 0}, 'label': {'JOBSAT': 'Job satisfaction'}}}, 'sex': {'label': 'sex', 'category': {'index': {'T': 0}, 'label': {'T': 'Total'}}}, 'age': {'label': 'age', 'category': {'index': {'Y25-34': 0}, 'label': {'Y25-34': 'From 25 to 34 years'}}}, 'geo': {'label': 'geo', 'category': {'index': {'AL': 0, 'AT': 1, 'BE': 2, 'BG': 3, 'CH': 4, 'CY': 5, 'CZ': 6, 'DE': 7, 'DK': 8, 'EA': 9, 'EA18': 10, 'EA19': 11, 'EE': 12, 'EL': 13, 'ES': 14, 'EU': 15, 'EU27_2007': 16, 'EU27_2020': 17, 'EU28': 18, 'FI': 19, 'FR': 20, 'HR': 21, 'HU': 22, 'IE': 23, 'IS': 24, 'IT': 25, 'LT': 26, 'LU': 27, 'LV': 28, 'ME': 29, 'MK': 30, 'MT': 31, 'NL': 32, 'NO': 33, 'PL': 34, 'PT': 35, 'RO': 36, 'RS': 37, 'SE': 38, 'SI': 39, 'SK': 40, 'TR': 41, 'UK': 42, 'XK': 43}, 'label': {'AL': 'Albania', 'AT': 'Austria', 'BE': 'Belgium', 'BG': 'Bulgaria', 'CH': 'Switzerland', 'CY': 'Cyprus', 'CZ': 'Czechia', 'DE': 'Germany (until 1990 former territory of the FRG)', 'DK': 'Denmark', 'EA': 'Euro area (EA11-1999, EA12-2001, EA13-2007, EA15-2008, EA16-2009, EA17-2011, EA18-2014, EA19-2015)', 'EA18': 'Euro area - 18 countries (2014)', 'EA19': 'Euro area - 19 countries  (from 2015)', 'EE': 'Estonia', 'EL': 'Greece', 'ES': 'Spain', 'EU': 'European Union (EU6-1958, EU9-1973, EU10-1981, EU12-1986, EU15-1995, EU25-2004, EU27-2007, EU28-2013, EU27-2020)', 'EU27_2007': 'European Union - 27 countries (2007-2013)', 'EU27_2020': 'European Union - 27 countries (from 2020)', 'EU28': 'European Union - 28 countries (2013-2020)', 'FI': 'Finland', 'FR': 'France', 'HR': 'Croatia', 'HU': 'Hungary', 'IE': 'Ireland', 'IS': 'Iceland', 'IT': 'Italy', 'LT': 'Lithuania', 'LU': 'Luxembourg', 'LV': 'Latvia', 'ME': 'Montenegro', 'MK': 'North Macedonia', 'MT': 'Malta', 'NL': 'Netherlands', 'NO': 'Norway', 'PL': 'Poland', 'PT': 'Portugal', 'RO': 'Romania', 'RS': 'Serbia', 'SE': 'Sweden', 'SI': 'Slovenia', 'SK': 'Slovakia', 'TR': 'Turkey', 'UK': 'United Kingdom', 'XK': 'Kosovo (under United Nations Security Council Resolution 1244/99)'}}}, 'time': {'label': 'time', 'category': {'index': {'2013': 0, '2018': 1}, 'label': {'2013': '2013', '2018': '2018'}}}}\n"
     ]
    }
   ],
   "source": [
    "# Creamos una variable string con la url de la llamada al api de Eurostat para obtener los datos del colectivo objetivo del estudio.\"\n",
    "urlEUROSTAT = 'http://ec.europa.eu/eurostat/wdds/rest/data/v2.1/json/en/ilc_pw01?precision=1&sex=T&indic_wb=JOBSAT&isced11=ED5-8&age=Y25-34'\n",
    "\n",
    "# Diccionario con el objeto JSON que se obtiene al realizar la petición a la API de la consulta del punto anterior.\n",
    "result = json.load(urlopen(urlEUROSTAT))\n",
    "\n",
    "# Print \"dimension\" del diccionario creado. Puedes utilizar la función urlopen() de la librería urllib.request.\n",
    "print(result['dimension'])"
   ]
  },
  {
   "cell_type": "code",
   "execution_count": 10,
   "metadata": {
    "id": "MsL39HOog22Z"
   },
   "outputs": [
    {
     "name": "stdout",
     "output_type": "stream",
     "text": [
      "DIMENSIONES\n",
      "['AGE', 'FREQ', 'GEO', 'INDICATORS', 'INDIC_WB', 'ISCED11', 'OBS_FLAG', 'SEX', 'TIME', 'UNIT']\n",
      "\n",
      "\n",
      "DICCIONARIO\n",
      "{'AL': 'Albania', 'AT': 'Austria', 'BE': 'Belgium', 'BG': 'Bulgaria', 'CH': 'Switzerland', 'CY': 'Cyprus', 'CZ': 'Czechia', 'DE': 'Germany (until 1990 former territory of the FRG)', 'DK': 'Denmark', 'EA': 'Euro area (EA11-1999, EA12-2001, EA13-2007, EA15-2008, EA16-2009, EA17-2011, EA18-2014, EA19-2015)', 'EA18': 'Euro area - 18 countries (2014)', 'EA19': 'Euro area - 19 countries  (from 2015)', 'EE': 'Estonia', 'EL': 'Greece', 'ES': 'Spain', 'EU': 'European Union (EU6-1958, EU9-1973, EU10-1981, EU12-1986, EU15-1995, EU25-2004, EU27-2007, EU28-2013, EU27-2020)', 'EU27_2007': 'European Union - 27 countries (2007-2013)', 'EU27_2020': 'European Union - 27 countries (from 2020)', 'EU28': 'European Union - 28 countries (2013-2020)', 'FI': 'Finland', 'FR': 'France', 'HR': 'Croatia', 'HU': 'Hungary', 'IE': 'Ireland', 'IS': 'Iceland', 'IT': 'Italy', 'LT': 'Lithuania', 'LU': 'Luxembourg', 'LV': 'Latvia', 'ME': 'Montenegro', 'MK': 'North Macedonia', 'MT': 'Malta', 'NL': 'Netherlands', 'NO': 'Norway', 'PL': 'Poland', 'PT': 'Portugal', 'RO': 'Romania', 'RS': 'Serbia', 'SE': 'Sweden', 'SI': 'Slovenia', 'SK': 'Slovakia', 'TR': 'Turkey', 'UK': 'United Kingdom', 'XK': 'Kosovo (under United Nations Security Council Resolution 1244/99)'}\n",
      "\n",
      "\n",
      "DATOS\n",
      "      unit isced11 indic_wb sex     age geo\\time  2018  2013\n",
      "0      RTG   ED0-2   ACCSAT   F  Y16-19       AT   NaN   8.7\n",
      "1      RTG   ED0-2   ACCSAT   F  Y16-19       BE   NaN   8.0\n",
      "2      RTG   ED0-2   ACCSAT   F  Y16-19       BG   NaN   6.0\n",
      "3      RTG   ED0-2   ACCSAT   F  Y16-19       CH   NaN   8.5\n",
      "4      RTG   ED0-2   ACCSAT   F  Y16-19       CY   NaN   8.3\n",
      "...    ...     ...      ...  ..     ...      ...   ...   ...\n",
      "63784  RTG   TOTAL  TIMESAT   T  Y_GE75       SI   8.0   7.1\n",
      "63785  RTG   TOTAL  TIMESAT   T  Y_GE75       SK   7.4   7.9\n",
      "63786  RTG   TOTAL  TIMESAT   T  Y_GE75       TR   5.9   5.5\n",
      "63787  RTG   TOTAL  TIMESAT   T  Y_GE75       UK   8.4   8.1\n",
      "63788  RTG   TOTAL  TIMESAT   T  Y_GE75       XK   6.4   NaN\n",
      "\n",
      "[63789 rows x 8 columns]\n"
     ]
    }
   ],
   "source": [
    "# Descargamos los datos de Satisfacción en Europa (código del dataset: ilc_pw01) en formato pandas a partir de la función get_data_df() de librería eurostat. \n",
    "data = eurostat.get_data_df('ilc_pw01', flags=False)\n",
    "\n",
    "#Reconocimiento de variables \n",
    "dims = eurostat.get_sdmx_dims('ilc_pw01')\n",
    "dic = eurostat.get_sdmx_dic('ilc_pw01', 'GEO')\n",
    "\n",
    "#Print variables \n",
    "print('DIMENSIONES')\n",
    "print(dims)\n",
    "print('\\n')\n",
    "print('DICCIONARIO')\n",
    "print(dic)\n",
    "print('\\n')\n",
    "print('DATOS')\n",
    "print(data)\n"
   ]
  },
  {
   "cell_type": "code",
   "execution_count": 6,
   "metadata": {
    "id": "yzxjw-mikFHq"
   },
   "outputs": [
    {
     "name": "stdout",
     "output_type": "stream",
     "text": [
      "Progress: 100.0%\n"
     ]
    },
    {
     "data": {
      "text/html": [
       "<div>\n",
       "<style scoped>\n",
       "    .dataframe tbody tr th:only-of-type {\n",
       "        vertical-align: middle;\n",
       "    }\n",
       "\n",
       "    .dataframe tbody tr th {\n",
       "        vertical-align: top;\n",
       "    }\n",
       "\n",
       "    .dataframe thead th {\n",
       "        text-align: right;\n",
       "    }\n",
       "</style>\n",
       "<table border=\"1\" class=\"dataframe\">\n",
       "  <thead>\n",
       "    <tr style=\"text-align: right;\">\n",
       "      <th></th>\n",
       "      <th>ISCED11</th>\n",
       "      <th>UNIT</th>\n",
       "      <th>SEX</th>\n",
       "      <th>INDIC_WB</th>\n",
       "      <th>AGE</th>\n",
       "      <th>GEO</th>\n",
       "      <th>FREQ</th>\n",
       "      <th>2018</th>\n",
       "    </tr>\n",
       "  </thead>\n",
       "  <tbody>\n",
       "    <tr>\n",
       "      <th>0</th>\n",
       "      <td>ED5-8</td>\n",
       "      <td>RTG</td>\n",
       "      <td>T</td>\n",
       "      <td>JOBSAT</td>\n",
       "      <td>Y25-34</td>\n",
       "      <td>AL</td>\n",
       "      <td>A</td>\n",
       "      <td>6.5</td>\n",
       "    </tr>\n",
       "    <tr>\n",
       "      <th>13</th>\n",
       "      <td>ED5-8</td>\n",
       "      <td>RTG</td>\n",
       "      <td>T</td>\n",
       "      <td>JOBSAT</td>\n",
       "      <td>Y25-34</td>\n",
       "      <td>EL</td>\n",
       "      <td>A</td>\n",
       "      <td>6.5</td>\n",
       "    </tr>\n",
       "    <tr>\n",
       "      <th>41</th>\n",
       "      <td>ED5-8</td>\n",
       "      <td>RTG</td>\n",
       "      <td>T</td>\n",
       "      <td>JOBSAT</td>\n",
       "      <td>Y25-34</td>\n",
       "      <td>TR</td>\n",
       "      <td>A</td>\n",
       "      <td>6.7</td>\n",
       "    </tr>\n",
       "    <tr>\n",
       "      <th>37</th>\n",
       "      <td>ED5-8</td>\n",
       "      <td>RTG</td>\n",
       "      <td>T</td>\n",
       "      <td>JOBSAT</td>\n",
       "      <td>Y25-34</td>\n",
       "      <td>RS</td>\n",
       "      <td>A</td>\n",
       "      <td>7.0</td>\n",
       "    </tr>\n",
       "    <tr>\n",
       "      <th>3</th>\n",
       "      <td>ED5-8</td>\n",
       "      <td>RTG</td>\n",
       "      <td>T</td>\n",
       "      <td>JOBSAT</td>\n",
       "      <td>Y25-34</td>\n",
       "      <td>BG</td>\n",
       "      <td>A</td>\n",
       "      <td>7.0</td>\n",
       "    </tr>\n",
       "    <tr>\n",
       "      <th>42</th>\n",
       "      <td>ED5-8</td>\n",
       "      <td>RTG</td>\n",
       "      <td>T</td>\n",
       "      <td>JOBSAT</td>\n",
       "      <td>Y25-34</td>\n",
       "      <td>UK</td>\n",
       "      <td>A</td>\n",
       "      <td>7.1</td>\n",
       "    </tr>\n",
       "  </tbody>\n",
       "</table>\n",
       "</div>"
      ],
      "text/plain": [
       "   ISCED11 UNIT SEX INDIC_WB     AGE GEO FREQ 2018\n",
       "0    ED5-8  RTG   T   JOBSAT  Y25-34  AL    A  6.5\n",
       "13   ED5-8  RTG   T   JOBSAT  Y25-34  EL    A  6.5\n",
       "41   ED5-8  RTG   T   JOBSAT  Y25-34  TR    A  6.7\n",
       "37   ED5-8  RTG   T   JOBSAT  Y25-34  RS    A  7.0\n",
       "3    ED5-8  RTG   T   JOBSAT  Y25-34  BG    A  7.0\n",
       "42   ED5-8  RTG   T   JOBSAT  Y25-34  UK    A  7.1"
      ]
     },
     "execution_count": 6,
     "metadata": {},
     "output_type": "execute_result"
    }
   ],
   "source": [
    "# Filtramos el conjunto de datos del punto 1 directamente en este Data Frame y presenta las 6 primeras filas\n",
    "\n",
    "#Filtros\n",
    "StartPeriod = 2018\n",
    "EndPeriod = 2018\n",
    "filter_pars = {'INDIC_WB': ['JOBSAT',], 'SEX': ['T'], 'AGE': ['Y25-34'], 'ISCED11': ['ED5-8']}\n",
    "\n",
    "#Dataframe .get\n",
    "df = eurostat.get_sdmx_data_df('ilc_pw01', StartPeriod, EndPeriod, filter_pars, flags = False, verbose=True)\n",
    "\n",
    "#Filtro & sort\n",
    "df_filter = df.sort_values(by=2018, ascending=True)\n",
    "df_filter.head(6)"
   ]
  },
  {
   "cell_type": "code",
   "execution_count": 12,
   "metadata": {
    "colab": {
     "base_uri": "https://localhost:8080/",
     "height": 629
    },
    "id": "H08I9ygf9Hby",
    "outputId": "cf1e830f-3b2d-4d9e-8b54-7bc3ff510147"
   },
   "outputs": [
    {
     "data": {
      "image/png": "[encoded data removed]",
      "text/plain": [
       "<Figure size 2160x720 with 1 Axes>"
      ]
     },
     "metadata": {
      "needs_background": "light"
     },
     "output_type": "display_data"
    }
   ],
   "source": [
    "# Construimos un gráfico donde se presente el nivel de satisfacción en cada país del colectivo objetivo del estudio en el año 2018.\n",
    "# ¿En qué país están más satisfechos con el trabajo en 2018? ¿En qué país están menos satisfechos?\n",
    "\n",
    "# Configuramos el tamaño de la imagen\n",
    "fig = plt.figure(figsize = (30, 10))\n",
    "\n",
    "# filtramos los valores que deseamos plotear\n",
    "df_sa = df_filter[2018]\n",
    "langs = df_filter['GEO']\n",
    "\n",
    "# configuramos el plot\n",
    "plt.bar(langs, df_sa)\n",
    "plt.title('Nivel de satisfación con el trabajo en el 2018 en Europa')\n",
    "plt.xlabel('Países')\n",
    "plt.ylabel('Nivel de satisfacción')\n",
    "plt.xticks(rotation=45)\n",
    "plt.yticks(rotation=90)\n",
    "plt.show()\n"
   ]
  },
  {
   "cell_type": "markdown",
   "metadata": {
    "id": "xk_1lzk-yGyl"
   },
   "source": [
    "* El país en el cual estan más satisfechos con el trabajo en el 2018 es **RO: ROMANÍA**\n",
    "\n",
    "* Los países que estan menos satisfechos son **AL: ALBANIA** y **EL: GRECIA**"
   ]
  }
 ],
 "metadata": {
  "colab": {
   "collapsed_sections": [],
   "name": "M3_AI1_CamachoAbadiePaul.ipynb",
   "provenance": []
  },
  "kernelspec": {
   "display_name": "Python 3 (ipykernel)",
   "language": "python",
   "name": "python3"
  },
  "language_info": {
   "codemirror_mode": {
    "name": "ipython",
    "version": 3
   },
   "file_extension": ".py",
   "mimetype": "text/x-python",
   "name": "python",
   "nbconvert_exporter": "python",
   "pygments_lexer": "ipython3",
   "version": "3.9.7"
  }
 },
 "nbformat": 4,
 "nbformat_minor": 4
}
